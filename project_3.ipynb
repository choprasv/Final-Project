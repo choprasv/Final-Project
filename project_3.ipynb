{
 "cells": [
  {
   "cell_type": "markdown",
   "metadata": {},
   "source": [
    "Project 3 : Regression Problem 1"
   ]
  },
  {
   "cell_type": "code",
   "execution_count": 28,
   "metadata": {},
   "outputs": [],
   "source": [
    "import pandas as pd\n",
    "from sklearn.preprocessing import StandardScaler\n",
    "from sklearn.svm import SVR\n",
    "from sklearn.linear_model import LinearRegression\n",
    "from sklearn.metrics import mean_squared_error,mean_absolute_error\n",
    "import matplotlib.pyplot as plt"
   ]
  },
  {
   "cell_type": "markdown",
   "metadata": {},
   "source": [
    "READ TWO DATASET AS TRAINING AND TESTING SETS"
   ]
  },
  {
   "cell_type": "code",
   "execution_count": 29,
   "metadata": {},
   "outputs": [],
   "source": [
    "train_data = pd.read_csv(\"p1_train.csv\",names=[\"f1\", \"f2\", \"target\"])\n",
    "test_data = pd.read_csv(\"p1_test.csv\",names=[\"f1\", \"f2\", \"target\"])"
   ]
  },
  {
   "cell_type": "markdown",
   "metadata": {},
   "source": [
    "ASSIGNING VALUES OF COLUMNS OF DATAFRAME FOR PLOTTING"
   ]
  },
  {
   "cell_type": "code",
   "execution_count": 30,
   "metadata": {},
   "outputs": [],
   "source": [
    "#Training datasets\n",
    "X_train = train_data.iloc[:,:-1]\n",
    "y_train = train_data.iloc[:,-1]\n",
    "#Testing datasets\n",
    "X_test = test_data.iloc[:,:-1]\n",
    "y_test = test_data.iloc[:,-1]"
   ]
  },
  {
   "cell_type": "markdown",
   "metadata": {},
   "source": [
    "\n",
    "STANDARDIZING THEM TO SUIT WITH ML MODELS"
   ]
  },
  {
   "cell_type": "code",
   "execution_count": 31,
   "metadata": {},
   "outputs": [],
   "source": [
    "#Using StandardScalar,the Features are Preprocessed\n",
    "sc = StandardScaler()\n",
    "X_train = sc.fit_transform(X_train)\n",
    "X_test = sc.transform(X_test)"
   ]
  },
  {
   "cell_type": "code",
   "execution_count": 32,
   "metadata": {},
   "outputs": [],
   "source": [
    "#EVALUATION OF LINEAR REGRESSION MODELS\n",
    "def linear_models(model):\n",
    "    mod=model.fit(X_train,y_train)\n",
    "    y_pred=mod.predict(X_test)\n",
    "    mse = mean_squared_error(y_test,y_pred)\n",
    "    mae= mean_absolute_error(y_test,y_pred)\n",
    "    return mse,mae"
   ]
  },
  {
   "cell_type": "markdown",
   "metadata": {},
   "source": [
    "\n",
    "PRINTING OF EVALUATION METRICS"
   ]
  },
  {
   "cell_type": "code",
   "execution_count": 33,
   "metadata": {},
   "outputs": [
    {
     "name": "stdout",
     "output_type": "stream",
     "text": [
      "                                    Evaluation Metrics\n",
      "Support Vector Regression:\n",
      "   Mean Squared Error= 5.045\n",
      "   Mean Absolute Error= 1.799\n",
      "-------------------------------------------------------------------------------------------------------------------------\n",
      "Linear Regression:\n",
      "   Mean Squared Error= 5.046\n",
      "   Mean Absolute Error= 1.799\n",
      "-------------------------------------------------------------------------------------------------------------------------\n"
     ]
    }
   ],
   "source": [
    "#List of MAE and MSE for plotting graph\n",
    "MSE=[]\n",
    "MAE=[]\n",
    "#Model list\n",
    "model_list=[SVR(kernel=\"linear\",C=1.0),LinearRegression()]\n",
    "model_name_list=[\"Support Vector Regression\",\"Linear Regression\"]\n",
    "print(\"                                    Evaluation Metrics\")\n",
    "for model,model_name in zip(model_list,model_name_list):\n",
    "    mse,mae=linear_models(model)\n",
    "    MSE.append(mse)\n",
    "    MAE.append(mae)\n",
    "    print(f\"{model_name}:\")\n",
    "    print(\"   Mean Squared Error=\",round(mse,3))\n",
    "    print(\"   Mean Absolute Error=\",round(mae,3))\n",
    "    print(\"-------------------------------------------------------------------------------------------------------------------------\")"
   ]
  },
  {
   "cell_type": "markdown",
   "metadata": {},
   "source": [
    "PLOTTING OF EVALUATION METRICS"
   ]
  },
  {
   "cell_type": "code",
   "execution_count": 34,
   "metadata": {},
   "outputs": [
    {
     "data": {
      "image/png": "[encoded data removed]",
      "text/plain": [
       "<Figure size 640x480 with 2 Axes>"
      ]
     },
     "metadata": {},
     "output_type": "display_data"
    }
   ],
   "source": [
    "#MSE graph\n",
    "plt.subplot(1,2,1)\n",
    "plt.bar([\"SVR\",\"LR\"],MSE,color=['blue','orange'])\n",
    "plt.title(\"Mean Squared Error by Model\")\n",
    "plt.xlabel(\"Regression Models\")\n",
    "plt.ylabel(\"MSE\")\n",
    "#MAE graph\n",
    "plt.subplot(1,2,2)\n",
    "plt.bar([\"SVR\",\"LR\"],MSE,color=['blue','orange'])\n",
    "plt.title(\"Mean Absolute Error by Model\")\n",
    "plt.xlabel(\"Regression Models\")\n",
    "plt.ylabel(\"MAE\")\n",
    "plt.tight_layout()\n",
    "plt.show()"
   ]
  }
 ],
 "metadata": {
  "kernelspec": {
   "display_name": "Python 3",
   "language": "python",
   "name": "python3"
  },
  "language_info": {
   "codemirror_mode": {
    "name": "ipython",
    "version": 3
   },
   "file_extension": ".py",
   "mimetype": "text/x-python",
   "name": "python",
   "nbconvert_exporter": "python",
   "pygments_lexer": "ipython3",
   "version": "3.12.0"
  }
 },
 "nbformat": 4,
 "nbformat_minor": 2
}
